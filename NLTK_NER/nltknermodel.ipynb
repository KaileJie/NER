{
  "nbformat": 4,
  "nbformat_minor": 0,
  "metadata": {
    "colab": {
      "provenance": []
    },
    "kernelspec": {
      "name": "python3",
      "display_name": "Python 3"
    },
    "language_info": {
      "name": "python"
    }
  },
  "cells": [
    {
      "cell_type": "code",
      "source": [
        "import streamlit as st\n",
        "import pandas as pd\n",
        "import nltk\n",
        "from nltk import word_tokenize, pos_tag, ne_chunk\n",
        "\n",
        "nltk.download('punkt')\n",
        "\n",
        "nltk.download('maxent_ne_chunker')\n",
        "\n",
        "nltk.download('words')\n",
        "\n",
        "nltk.download('averaged_perceptron_tagger')\n",
        "\n",
        "# Function:\n",
        "\n",
        "def run_ner_nltk(lines):\n",
        "    st.write(\"### NER Results:\")\n",
        "    for line in lines:\n",
        "        tokens = word_tokenize(line)\n",
        "        tagged = pos_tag(tokens)\n",
        "        entities = ne_chunk(tagged)\n",
        "\n",
        "        st.write(f\"**Subject Line:** {line}\")\n",
        "        st.write(entities)\n",
        "        st.write(\"\\n\")\n",
        "\n",
        "# Streamlit app:\n",
        "\n",
        "st.write(\"This application demonstrates the use of NLTK for NER on a set of subject lines\")\n",
        "\n",
        "uploaded_file = st.file_uploader(\"Choose a CSV file\", type=[\"csv\"])\n",
        "\n",
        "if uploaded_file is not None:\n",
        "\n",
        "    df = pd.read_csv(uploaded_file)\n",
        "\n",
        "    st.write(\"Data Preview:\")\n",
        "\n",
        "    st.write(df.head())\n",
        "\n",
        "    if st.button('Run NER on Subject Lines'):\n",
        "\n",
        "        run_ner_nltk(df['SUBJECT_LINE'].tolist())\n",
        "\n",
        "if __name__ == \"__main__\":\n",
        "\n",
        "    st.write(\"Click the button above to process the subject lines\")\n",
        "\n"
      ],
      "metadata": {
        "colab": {
          "base_uri": "https://localhost:8080/"
        },
        "id": "GvYMAnixOUXF",
        "outputId": "7e26b2d2-68c4-42b9-b096-68f3399530c0"
      },
      "execution_count": null,
      "outputs": [
        {
          "output_type": "stream",
          "name": "stderr",
          "text": [
            "[nltk_data] Downloading package punkt to /root/nltk_data...\n",
            "[nltk_data]   Unzipping tokenizers/punkt.zip.\n",
            "[nltk_data] Downloading package maxent_ne_chunker to\n",
            "[nltk_data]     /root/nltk_data...\n",
            "[nltk_data]   Unzipping chunkers/maxent_ne_chunker.zip.\n",
            "[nltk_data] Downloading package words to /root/nltk_data...\n",
            "[nltk_data]   Unzipping corpora/words.zip.\n",
            "[nltk_data] Downloading package averaged_perceptron_tagger to\n",
            "[nltk_data]     /root/nltk_data...\n",
            "[nltk_data]   Unzipping taggers/averaged_perceptron_tagger.zip.\n"
          ]
        }
      ]
    },
    {
      "cell_type": "code",
      "source": [],
      "metadata": {
        "id": "nUa5EuAcOX8X"
      },
      "execution_count": null,
      "outputs": []
    }
  ]
}